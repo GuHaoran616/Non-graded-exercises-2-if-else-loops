{
 "cells": [
  {
   "cell_type": "markdown",
   "metadata": {},
   "source": [
    "Write a simple game with the following requirements:\n",
    "\n",
    "1. Print a welcome message that says \"Welcome to Hangman\"\n",
    "2. Store a list of different words that can be used in the game. When the game starts, pick one word randomly. For now, use a list of only single words. \n",
    "3. Display that random word to the user, but display it only as '_' (underscores). e.g., if the word is 'Alice', then only _ _ _ _ _ should be displayed. \n",
    "3. Keep asking the user to guess the word one letter at a time until either the user guesses it correctly, or they run out of total 10 attempts. \n",
    "    3.1. Print how many attempts are left\n",
    "    3.2. Print the current state of the guessed word\n",
    "    3.3. Ask the user enter a single letter\n",
    "    3.4 Every time the user enters something, check that the input is only alphabet and not numbers or special characters. If the user enters such a character, tell the user \"Invalid Character\" and ask the user to try again. \n",
    "    3.5. Keep track of all the letters that the user has entered while playing the game\n",
    "    3.6. If the user enters a letter that was already entered before, inform the user. \n",
    "    3.7. Every time the user makes an incorrect guess, the number of total attempts must be decreased by 1. \n",
    "    3.8. Every time the user makes a correct guess, inform the user that it was correct, fill the word with that letter and continue. For example, if the user enters 'i' when trying to guess the word 'Alice', display to the user _ _ i _ _\n",
    "    3.9 If the entire word has been guessed correctly, display the message \"Awesome! You guessed the word correctly\".\n",
    "4. After the game ends, display \"Thank you for playing. See you next time\" if the user was able to guess the word correctly. Otherwise, display \"Thank you for playing. Better luck next time\" if the user could not guess the word and the number of total attempts is 0. \n",
    "\n",
    "After your have finished writing the program and it works flawlessly, you can COMMIT and then PUSH your program to your GitHub acccount. Then copy that repository link and submit it to \"Non-graded Exercise #2: If-else and Loops\" submission box\n",
    "\n",
    "*** If you still have time and want to try something more, try using a list of multiple words that may have numbers and even special characters. For example, \"Oh, my God!\""
   ]
  },
  {
   "cell_type": "code",
   "execution_count": 1,
   "metadata": {},
   "outputs": [
    {
     "name": "stdout",
     "output_type": "stream",
     "text": [
      "Welcome to Hangman!\n",
      "Word to guess: _ _ _ _ _ _ _ _ _ _ _\n",
      "Attempts left: 10\n"
     ]
    }
   ],
   "source": [
    "import random\n",
    "\n",
    "print(\"Welcome to Hangman!\")\n",
    "\n",
    "word_list = ['python', 'hangman', 'computer', 'programming', 'developer', 'alice']\n",
    "\n",
    "word_to_guess = random.choice(word_list)\n",
    "\n",
    "current_word_state = ['_'] * len(word_to_guess)\n",
    "\n",
    "attempts_left = 10\n",
    "\n",
    "guessed_letters = []\n",
    "\n",
    "def display_current_state():\n",
    "    print(\"Word to guess: \" + ' '.join(current_word_state))\n",
    "\n",
    "while attempts_left > 0:\n",
    "    display_current_state()\n",
    "    print(f\"Attempts left: {attempts_left}\")\n",
    "    guess = input(\"Guess a letter: \").lower()\n",
    "\n",
    "    if not guess.isalpha() or len(guess) != 1:\n",
    "        print(\"Invalid character. Please enter a single alphabet letter.\")\n",
    "        continue\n",
    "\n",
    "    if guess in guessed_letters:\n",
    "        print(f\"You already guessed the letter '{guess}'. Try another one.\")\n",
    "        continue\n",
    "\n",
    "    guessed_letters.append(guess)\n",
    "\n",
    "    if guess in word_to_guess:\n",
    "        print(f\"Good job! '{guess}' is in the word.\")\n",
    "        \n",
    "        for index, letter in enumerate(word_to_guess):\n",
    "            if letter == guess:\n",
    "                current_word_state[index] = guess\n",
    "    else:\n",
    "        print(f\"Oops! '{guess}' is not in the word.\")\n",
    "        attempts_left -= 1\n",
    "\n",
    "    if '_' not in current_word_state:\n",
    "        print(f\"Awesome! You guessed the word correctly: {''.join(current_word_state)}\")\n",
    "        break\n",
    "\n",
    "if '_' not in current_word_state:\n",
    "    print(\"Thank you for playing. See you next time!\")\n",
    "else:\n",
    "    print(f\"The word was: {word_to_guess}\")\n",
    "    print(\"Thank you for playing.Better luck next time!\")\n",
    "\n"
   ]
  }
 ],
 "metadata": {
  "kernelspec": {
   "display_name": "Python 3",
   "language": "python",
   "name": "python3"
  },
  "language_info": {
   "codemirror_mode": {
    "name": "ipython",
    "version": 3
   },
   "file_extension": ".py",
   "mimetype": "text/x-python",
   "name": "python",
   "nbconvert_exporter": "python",
   "pygments_lexer": "ipython3",
   "version": "3.12.5"
  }
 },
 "nbformat": 4,
 "nbformat_minor": 2
}
